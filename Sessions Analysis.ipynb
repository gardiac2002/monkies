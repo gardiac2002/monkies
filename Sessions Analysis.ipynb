{
 "cells": [
  {
   "cell_type": "code",
   "execution_count": null,
   "metadata": {},
   "outputs": [],
   "source": [
    "import pandas as pd\n",
    "import numpy as np\n",
    "\n",
    "from matplotlib import pyplot as plt\n",
    "%matplotlib inline"
   ]
  },
  {
   "cell_type": "code",
   "execution_count": null,
   "metadata": {},
   "outputs": [],
   "source": [
    "sessions = pd.read_csv('sessions.csv')\n",
    "sessions = sessions.fillna(0)\n",
    "\n",
    "# reformat dates\n",
    "sessions['date'] = pd.to_datetime(sessions.date)"
   ]
  },
  {
   "cell_type": "code",
   "execution_count": null,
   "metadata": {},
   "outputs": [],
   "source": [
    "sessions.columns"
   ]
  },
  {
   "cell_type": "code",
   "execution_count": null,
   "metadata": {},
   "outputs": [],
   "source": [
    "boulder_4 = 4\n",
    "boulder_5a = 8\n",
    "boulder_5b = 9\n",
    "boulder_5c = 10\n",
    "\n",
    "boulder_6a = 20\n",
    "boulder_6a_plus = 21\n",
    "boulder_6b = 30\n",
    "\n",
    "boulder_6b_plus = 40\n",
    "boulder_6c = 60\n",
    "boulder_6c_plus = 70\n",
    "\n",
    "boulder_7a = 100\n",
    "boulder_7a_plus = 130\n",
    "\n",
    "scores_translator = {\n",
    "    # climbing\n",
    "    '4': boulder_4,   \n",
    "    '5a': boulder_5a,\n",
    "    '5b': boulder_5b,\n",
    "    '5c': boulder_5c,\n",
    "    '6a': boulder_6a,\n",
    "    '6a+': boulder_6a_plus,\n",
    "    '6b': boulder_6b,\n",
    "    '6b+': boulder_6b_plus,\n",
    "    '6c': boulder_6c,\n",
    "    '6c+': boulder_6c_plus,\n",
    "    '7a': boulder_7a,\n",
    "    '7a+': boulder_7a_plus,\n",
    "    \n",
    "    # gymnastics\n",
    "    'block': boulder_6a_plus / 5,\n",
    "    'core': boulder_6a / 5,\n",
    "    'anta': boulder_5c / 5,\n",
    "    'legs': boulder_5c / 5,\n",
    "    'L-Sit': boulder_6b,\n",
    "    \n",
    "    # speed\n",
    "    'speed+': boulder_7a / 5,\n",
    "    \n",
    "    # ARC\n",
    "    'arc': boulder_6b_plus / 5,\n",
    "    \n",
    "    # technique\n",
    "    'tech': boulder_6a_plus / 5,\n",
    "    \n",
    "    # Hangboard for each 10 seconds\n",
    "    '4F2G': boulder_5c / 10,\n",
    "    '3F2G': boulder_6a / 10,\n",
    "    '2F2G': boulder_6a_plus / 10,\n",
    "    \n",
    "    # crimp in mm\n",
    "    '16': boulder_6a_plus / 10,\n",
    "    '12': boulder_6b_plus / 10,\n",
    "    \n",
    "    # slopers\n",
    "    'sloper': boulder_6a / 10,\n",
    "    '15°': boulder_6a / 10,\n",
    "    '35°': boulder_6b_plus / 10,\n",
    "    '45°': boulder_7a / 10,\n",
    "    \n",
    "    'pinch': boulder_6b_plus / 10,\n",
    "}\n",
    "\n",
    "hangboard = [\n",
    "    '4F2G',\n",
    "    '3F2G',\n",
    "    '2F2G',\n",
    "    '16',\n",
    "    '12',\n",
    "    'sloper',\n",
    "    '15°',\n",
    "    '35°',\n",
    "    '45°',\n",
    "    'pinch'\n",
    "]\n",
    "\n",
    "gymnastics = ['block', 'core', 'anta', 'legs', 'L-Sit',]\n",
    "climbing = ['4', '5a', '5b', '5c', '6a', '6a+', '6b', '6b+', '6c', '6c+', '7a', '7a+',]\n",
    "\n",
    "\n",
    "def calc_score(row):\n",
    "    s = [row[key] * scores_translator[key] for key in scores_translator]\n",
    "    return sum(s)\n",
    "\n",
    "\n",
    "def calc_hangboard_scores(row):\n",
    "    s = [row[key] * scores_translator[key] for key in hangboard]\n",
    "    return sum(s)\n",
    "        \n",
    "    \n",
    "def calc_gym_scores(row):\n",
    "    s = [row[key] * scores_translator[key] for key in gymnastics]\n",
    "    return sum(s)\n",
    "\n",
    "def calc_climbing_scores(row):\n",
    "    s = [row[key] * scores_translator[key] for key in climbing]\n",
    "    return sum(s)\n",
    "\n",
    "def calc_arc_scores(row):\n",
    "    s = [row[key] * scores_translator[key] for key in ['arc']]\n",
    "    return sum(s)\n",
    "\n",
    "def calc_technique_scores(row):\n",
    "    s = [row[key] * scores_translator[key] for key in ['tech']]\n",
    "    return sum(s)\n",
    "\n",
    "def calc_speed_scores(row):\n",
    "    s = [row[key] * scores_translator[key] for key in ['speed+']]\n",
    "    return sum(s)"
   ]
  },
  {
   "cell_type": "code",
   "execution_count": null,
   "metadata": {},
   "outputs": [],
   "source": [
    "scores = sessions.apply(calc_score, axis=1)\n",
    "hangboard_scores = sessions.apply(calc_hangboard_scores, axis=1)\n",
    "gym_scores = sessions.apply(calc_gym_scores, axis=1)\n",
    "climbing_scores = sessions.apply(calc_climbing_scores, axis=1)\n",
    "arc_scores = sessions.apply(calc_arc_scores, axis=1)\n",
    "tech_scores = sessions.apply(calc_technique_scores, axis=1)\n",
    "speed_scores = sessions.apply(calc_speed_scores, axis=1)\n",
    "\n",
    "sessions['scores'] = scores\n",
    "sessions['hang_scores'] = hangboard_scores\n",
    "sessions['gym_scores'] = gym_scores\n",
    "sessions['climbing_scores'] = climbing_scores\n",
    "sessions['arc_scores'] = arc_scores\n",
    "sessions['tech_scores'] = tech_scores\n",
    "sessions['speed_scores'] = speed_scores"
   ]
  },
  {
   "cell_type": "code",
   "execution_count": null,
   "metadata": {},
   "outputs": [],
   "source": [
    "doripa = sessions[sessions.monkey == 'doripa']\n",
    "sunshine_sessions = sessions[sessions.monkey == 'sunshine']"
   ]
  },
  {
   "cell_type": "markdown",
   "metadata": {},
   "source": [
    "# Doripa: Five last entries"
   ]
  },
  {
   "cell_type": "code",
   "execution_count": null,
   "metadata": {},
   "outputs": [],
   "source": [
    "doripa.tail()[['climbing_scores', 'tech_scores', 'gym_scores', 'hang_scores', 'arc_scores']]"
   ]
  },
  {
   "cell_type": "markdown",
   "metadata": {},
   "source": [
    "# Doripa: Maximal sessions"
   ]
  },
  {
   "cell_type": "code",
   "execution_count": null,
   "metadata": {},
   "outputs": [],
   "source": [
    "doripa[['climbing_scores', 'tech_scores', 'gym_scores', 'hang_scores', 'arc_scores']].max()"
   ]
  },
  {
   "cell_type": "markdown",
   "metadata": {},
   "source": [
    "# Sunshine: Last five scores"
   ]
  },
  {
   "cell_type": "code",
   "execution_count": null,
   "metadata": {},
   "outputs": [],
   "source": [
    "sunshine_sessions.tail()[['climbing_scores', 'tech_scores', 'gym_scores', 'hang_scores', 'arc_scores']]"
   ]
  },
  {
   "cell_type": "markdown",
   "metadata": {},
   "source": [
    "# Sunshine: Maximal Sessions"
   ]
  },
  {
   "cell_type": "code",
   "execution_count": null,
   "metadata": {},
   "outputs": [],
   "source": [
    "sunshine_sessions[['climbing_scores', 'tech_scores', 'gym_scores', 'hang_scores', 'arc_scores']].max()"
   ]
  },
  {
   "cell_type": "code",
   "execution_count": null,
   "metadata": {
    "scrolled": false
   },
   "outputs": [],
   "source": [
    "\n",
    "plt.figure(figsize=(20,10))\n",
    "\n",
    "x = np.arange(len(doripa))\n",
    "scores = [\n",
    "    doripa.climbing_scores,\n",
    "\n",
    "    doripa.tech_scores,\n",
    "    doripa.speed_scores,\n",
    "\n",
    "    doripa.gym_scores,\n",
    "    doripa.arc_scores,\n",
    "\n",
    "    doripa.hang_scores,\n",
    "\n",
    "]\n",
    "labels = ['Climbing', 'Technique', 'Speed', 'Gymnastics', 'ARC', 'Hangboarding',  ]\n",
    "colors = [ 'cornflowerblue','mediumorchid', 'gray', 'gold', 'red', 'lightgreen', ]\n",
    "\n",
    "y = np.vstack(scores)\n",
    "plt.stackplot(x, y, labels=labels, colors=colors)\n",
    "plt.plot(x, doripa.scores, marker='o', color='black')\n",
    "plt.axvline(x=30)\n",
    "\n",
    "plt.legend(loc=2)\n",
    "plt.show()\n"
   ]
  },
  {
   "cell_type": "code",
   "execution_count": null,
   "metadata": {},
   "outputs": [],
   "source": [
    "scores = [\n",
    "    doripa[doripa.scores > 0].scores,\n",
    "    doripa[doripa.climbing_scores > 0].climbing_scores,\n",
    "\n",
    "    doripa[doripa.tech_scores > 0].tech_scores,\n",
    "    doripa[doripa.gym_scores > 0].gym_scores,\n",
    "    doripa[doripa.arc_scores > 0].arc_scores,\n",
    "\n",
    "    doripa[doripa.hang_scores > 0].hang_scores,\n",
    "]\n",
    "labels = ['Score', 'Climbing', 'Technique', 'Gymnastics', 'ARC', 'Hangboarding']\n",
    "plt.boxplot(scores, labels=labels)\n",
    "plt.show()"
   ]
  },
  {
   "cell_type": "code",
   "execution_count": null,
   "metadata": {},
   "outputs": [],
   "source": [
    "plt.figure(figsize=(20,10))\n",
    "\n",
    "x = np.arange(len(sunshine_sessions))\n",
    "scores = [\n",
    "    sunshine_sessions.climbing_scores,\n",
    "    sunshine_sessions.tech_scores,\n",
    "    sunshine_sessions.gym_scores,\n",
    "\n",
    "    sunshine_sessions.arc_scores,\n",
    "    sunshine_sessions.hang_scores,\n",
    "]\n",
    "labels = ['Climbing', 'Technique', 'Gymnastics', 'ARC', 'Hangboarding',  ]\n",
    "colors = [ 'cornflowerblue','mediumorchid', 'gold', 'red', 'lightgreen', ]\n",
    "\n",
    "y = np.vstack(scores)\n",
    "plt.stackplot(x, y, labels=labels, colors=colors)\n",
    "plt.plot(x, sunshine_sessions.scores, marker='o', color='black')\n",
    "plt.legend(loc=2)\n",
    "plt.show()\n"
   ]
  },
  {
   "cell_type": "code",
   "execution_count": null,
   "metadata": {},
   "outputs": [],
   "source": [
    "scores = [\n",
    "    sunshine_sessions[sunshine_sessions.scores > 0].scores,\n",
    "    sunshine_sessions[sunshine_sessions.climbing_scores > 0].climbing_scores,\n",
    "\n",
    "    sunshine_sessions[sunshine_sessions.tech_scores > 0].tech_scores,\n",
    "    sunshine_sessions[sunshine_sessions.gym_scores > 0].gym_scores,\n",
    "    sunshine_sessions[sunshine_sessions.arc_scores > 0].arc_scores,\n",
    "\n",
    "    sunshine_sessions[sunshine_sessions.hang_scores > 0].hang_scores,\n",
    "]\n",
    "labels = ['Score', 'Climbing', 'Technique', 'Gymnastics', 'ARC', 'Hangboarding']\n",
    "plt.boxplot(scores, labels=labels)\n",
    "plt.show()\n",
    "# plt.boxplot(sunshine_sessions[sunshine_sessions.gym_scores > 0].gym_scores)"
   ]
  },
  {
   "cell_type": "code",
   "execution_count": null,
   "metadata": {},
   "outputs": [],
   "source": [
    "plt.matshow(doripa[['total', 'total6', 'scores']].corr());"
   ]
  },
  {
   "cell_type": "code",
   "execution_count": null,
   "metadata": {},
   "outputs": [],
   "source": [
    "doripa[['total', 'total6', 'scores']].corr()"
   ]
  },
  {
   "cell_type": "code",
   "execution_count": null,
   "metadata": {},
   "outputs": [],
   "source": [
    "doripa['total'].corr(doripa['total6'])"
   ]
  },
  {
   "cell_type": "code",
   "execution_count": null,
   "metadata": {},
   "outputs": [],
   "source": [
    "doripa['total'].corr(doripa['scores'])"
   ]
  },
  {
   "cell_type": "code",
   "execution_count": null,
   "metadata": {},
   "outputs": [],
   "source": [
    "doripa['scores'].corr(doripa['total6'])"
   ]
  },
  {
   "cell_type": "code",
   "execution_count": null,
   "metadata": {},
   "outputs": [],
   "source": [
    "sunshine_sessions.corr()['scores']"
   ]
  },
  {
   "cell_type": "code",
   "execution_count": null,
   "metadata": {},
   "outputs": [],
   "source": [
    "doripa.corr()['scores']"
   ]
  },
  {
   "cell_type": "code",
   "execution_count": null,
   "metadata": {},
   "outputs": [],
   "source": []
  },
  {
   "cell_type": "code",
   "execution_count": null,
   "metadata": {},
   "outputs": [],
   "source": []
  }
 ],
 "metadata": {
  "kernelspec": {
   "display_name": "Python [default]",
   "language": "python",
   "name": "python3"
  },
  "language_info": {
   "codemirror_mode": {
    "name": "ipython",
    "version": 3
   },
   "file_extension": ".py",
   "mimetype": "text/x-python",
   "name": "python",
   "nbconvert_exporter": "python",
   "pygments_lexer": "ipython3",
   "version": "3.6.3"
  }
 },
 "nbformat": 4,
 "nbformat_minor": 2
}
